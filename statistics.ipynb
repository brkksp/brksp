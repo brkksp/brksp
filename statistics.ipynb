{
 "cells": [
  {
   "cell_type": "code",
   "execution_count": 2,
   "metadata": {},
   "outputs": [],
   "source": [
    "import pandas as pd\n",
    "import numpy as np\n",
    "import matplotlib.pyplot as plt\n",
    "import seaborn as sns\n",
    "from scipy.stats import binom\n",
    "amir_deals = pd.read_csv('/Users/burakkasap/Downloads/amir_deals.csv')\n",
    "world_happiness = pd.read_csv('/Users/burakkasap/Downloads/world_happiness.csv')\n",
    "food_consumption = pd.read_csv('/Users/burakkasap/Downloads/food_consumption.csv')"
   ]
  },
  {
   "cell_type": "code",
   "execution_count": 23,
   "metadata": {},
   "outputs": [
    {
     "data": {
      "text/plain": [
       "77.64335664335664"
      ]
     },
     "execution_count": 23,
     "metadata": {},
     "output_type": "execute_result"
    }
   ],
   "source": []
  }
 ],
 "metadata": {
  "kernelspec": {
   "display_name": "venv",
   "language": "python",
   "name": "python3"
  },
  "language_info": {
   "codemirror_mode": {
    "name": "ipython",
    "version": 3
   },
   "file_extension": ".py",
   "mimetype": "text/x-python",
   "name": "python",
   "nbconvert_exporter": "python",
   "pygments_lexer": "ipython3",
   "version": "3.11.0"
  },
  "orig_nbformat": 4,
  "vscode": {
   "interpreter": {
    "hash": "798f5936334b0790ae2d31e250c178f94a2fbf05a3782ad4f1466fd324cd5715"
   }
  }
 },
 "nbformat": 4,
 "nbformat_minor": 2
}
